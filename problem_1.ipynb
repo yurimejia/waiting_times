{
 "cells": [
  {
   "cell_type": "markdown",
   "metadata": {},
   "source": [
    "## Problem description"
   ]
  },
  {
   "cell_type": "markdown",
   "metadata": {},
   "source": [
    "## Problem solution"
   ]
  },
  {
   "cell_type": "markdown",
   "metadata": {},
   "source": [
    "## Functions for calculations"
   ]
  },
  {
   "cell_type": "code",
   "execution_count": 1,
   "metadata": {
    "collapsed": true
   },
   "outputs": [],
   "source": [
    "# Compute_wait_time: Generates trein schedules and passenger's arrival time,\n",
    "# returns waiting time (min) for passenger to board the next trein.\n",
    "# INPUT:\n",
    "# num_trains      = (integer) total number of treins considered.\n",
    "# intertime_short = (float) short interarrival time (min).\n",
    "# intertime_long  = (float) long interarrival time (min).\n",
    "# prob_short      = (float) probability train has SHORT interarrival time.\n",
    "# OUTPUT:\n",
    "# waittime_passenger = (float) waiting time to next trein (min).\n",
    "Compute_wait_time = function(\n",
    "  num_trains,\n",
    "  intertime_short, \n",
    "  intertime_long,  \n",
    "  prob_short){     \n",
    "  \n",
    "  # Probability trein has LONG interarrival time                        \n",
    "  prob_long = 1 - prob_short \n",
    "  \n",
    "  # Generate series of types of treins' interarrival times. \n",
    "  # Short and long interarrival times appear with \n",
    "  # probabilities prob_short and prob_long, respectively.\n",
    "  isshort_intertime = sample(\n",
    "    x = c(0,1), \n",
    "    size = num_trains,\n",
    "    replace = TRUE,\n",
    "    prob = c(prob_long, prob_short))\n",
    "  \n",
    "  # Generate trein's schedule\n",
    "  intervals_short = isshort_intertime * intertime_short\n",
    "  intervals_long = as.numeric(!isshort_intertime) * intertime_long\n",
    "  intervals = intervals_short + intervals_long\n",
    "  schedule = cumsum(intervals)\n",
    "  \n",
    "  # Generate (random) arrival time for passenger\n",
    "  schedule_length = sum(intervals)\n",
    "  arrivaltime_passenger = runif(n = 1, min = 0, max = schedule_length)\n",
    "  \n",
    "  # Find trein time interval corresponding to the moment \n",
    "  # when passenger arrives to platform\n",
    "  i_passenger = findInterval(arrivaltime_passenger, schedule)\n",
    "  \n",
    "  # Compute waiting time for passenger\n",
    "  waittime_passenger = schedule[i_passenger + 1] - arrivaltime_passenger\n",
    "  \n",
    "  return(waittime_passenger)\n",
    "}\n",
    "\n",
    "# Compute_mean_wait_time: Generates 'num_experiments' waiting times and \n",
    "# returns its mean.\n",
    "# INPUT:\n",
    "# num_experiments = (integer) Number of waiting times/experiments to generate. \n",
    "# num_trains      = (integer) total number of treins considered.\n",
    "# intertime_short = (float) short interarrival time (min).\n",
    "# intertime_long  = (float) long interarrival time (min).\n",
    "# prob_short      = (float) probability train has SHORT interarrival time.\n",
    "# OUTPUT:\n",
    "# (float) mean waiting time to next trein (min).\n",
    "Compute_mean_wait_time = function(\n",
    "  num_experiments = 1000,\n",
    "  num_trains = 20,\n",
    "  intertime_short = 15, \n",
    "  intertime_long = 45,  \n",
    "  prob_short = 0.5){\n",
    "  \n",
    "  # Compute waiting times\n",
    "  wait_times = sapply(\n",
    "    1:num_experiments, \n",
    "    function(i){\n",
    "      Compute_wait_time(\n",
    "        num_trains,\n",
    "        intertime_short, \n",
    "        intertime_long,  \n",
    "        prob_short)\n",
    "  })\n",
    "  \n",
    "  # Return mean of waiting times\n",
    "  return(mean(wait_times))\n",
    "}"
   ]
  },
  {
   "cell_type": "markdown",
   "metadata": {},
   "source": [
    "## Calculations"
   ]
  },
  {
   "cell_type": "code",
   "execution_count": 6,
   "metadata": {
    "collapsed": true
   },
   "outputs": [],
   "source": [
    "# Generate 100 approximations\n",
    "ans = sapply(1:100, function(i){Compute_mean_wait_time()})\n",
    "df = data.frame(experiment = 1:length(ans),\n",
    "                wait_time = ans)"
   ]
  },
  {
   "cell_type": "markdown",
   "metadata": {},
   "source": [
    "## Display results"
   ]
  },
  {
   "cell_type": "code",
   "execution_count": 11,
   "metadata": {},
   "outputs": [
    {
     "data": {},
     "metadata": {},
     "output_type": "display_data"
    },
    {
     "data": {
      "image/png": "[encoded data removed]",
      "text/plain": [
       "plot without title"
      ]
     },
     "metadata": {},
     "output_type": "display_data"
    }
   ],
   "source": [
    "library(ggplot2)\n",
    "\n",
    "ggplot(data = df, aes(wait_time)) + \n",
    "# Display histogram and density\n",
    "  geom_histogram(aes(y = ..density..), \n",
    "                 col = 'cyan',\n",
    "                 binwidth = 0.1,\n",
    "                 fill = 'lightblue', \n",
    "                 alpha = 1) + \n",
    "  geom_density(col = 'blue') + \n",
    "  labs(title = 'Distribution of mean waiting times', \n",
    "       x = 'Waiting time (min)', \n",
    "       y = 'Density') + \n",
    "# Display mean vertical line\n",
    "  geom_vline(aes(xintercept = mean(wait_time)),\n",
    "             col = 'magenta', \n",
    "             size = 1,\n",
    "             linetype = 'dashed') +\n",
    "# Display mean value\n",
    "  geom_text(aes(label = paste('Mean =', round(mean(wait_time), 2)),\n",
    "                y = 0,\n",
    "                x = mean(wait_time) + 0.05),\n",
    "            vjust = -1,\n",
    "            col = 'magenta',\n",
    "            size = 5)\n"
   ]
  }
 ],
 "metadata": {
  "kernelspec": {
   "display_name": "R",
   "language": "R",
   "name": "ir"
  },
  "language_info": {
   "codemirror_mode": "r",
   "file_extension": ".r",
   "mimetype": "text/x-r-source",
   "name": "R",
   "pygments_lexer": "r",
   "version": "3.4.2"
  }
 },
 "nbformat": 4,
 "nbformat_minor": 2
}

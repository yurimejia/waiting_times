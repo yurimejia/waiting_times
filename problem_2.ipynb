{
 "cells": [
  {
   "cell_type": "markdown",
   "metadata": {},
   "source": [
    "## Problem description\n",
    "\n",
    "Secreary/dating problem with optimal time stopping\n",
    "http://datagenetics.com/blog/december32012/index.html\n",
    "\n",
    "\n",
    "Situation: \n",
    " * You are interviewing to select a new secretary (wife/husband).\n",
    " * There are N candidates applying for the position. \n",
    " * The potential suitors are all waiting in the next room. \n",
    " * You interview them individually, one-by-one, in a random order. \n",
    " * After each interview, you must make a binary decision: HIRE or PASS. \n",
    " * If you select HIRE, the interview process immediately stops.\n",
    " * If you PASS on a candidate, they are dismissed (they are passed by for good). \n",
    " \n",
    " \n",
    "Problem: Select the very best candidate from the applicant group."
   ]
  },
  {
   "cell_type": "markdown",
   "metadata": {},
   "source": [
    "## Problem solution\n",
    "\n",
    "Strategy(k):\n",
    " * Sample: Interview first k candidates and discard them, however, keep track of their scores.\n",
    " * To select candidate: Keep on interviewing subjects until you find someone who is better than anyone in the sample group.\n",
    " * If such a candidate doesn't exist in the remaining group, select last candidate.\n",
    "\n",
    "\n",
    "Challenge: Find optimal k given N."
   ]
  },
  {
   "cell_type": "markdown",
   "metadata": {},
   "source": [
    "## Functions for calculations"
   ]
  },
  {
   "cell_type": "code",
   "execution_count": 4,
   "metadata": {
    "collapsed": true
   },
   "outputs": [],
   "source": [
    "# Given N & k, probability of finding the best candidate if Strategy(k) is applied.\n",
    "prob = function(k, n){\n",
    "  j = k:(n-1)\n",
    "  ratio = 1/j\n",
    "  return(k/n * sum(ratio))\n",
    "}\n",
    "\n",
    "# Approximate sum in probability function with logarithm\n",
    "prob_approx = function(k,n){\n",
    "  return(-k/n * log(k/n))\n",
    "}"
   ]
  },
  {
   "cell_type": "markdown",
   "metadata": {},
   "source": [
    "## Calculations"
   ]
  },
  {
   "cell_type": "code",
   "execution_count": 5,
   "metadata": {},
   "outputs": [],
   "source": [
    "# Compute probability values for specific N\n",
    "# Observe how prob(k,N) behaves as N -> Inf\n",
    "N = 1000\n",
    "K = 1:(N-1)\n",
    "\n",
    "prob_vector = sapply(K, function(k){prob(k, N)})\n",
    "prob_approx_vector = sapply(K, function(k){prob_approx(k, N)})"
   ]
  },
  {
   "cell_type": "markdown",
   "metadata": {},
   "source": [
    "## Display results"
   ]
  },
  {
   "cell_type": "code",
   "execution_count": 6,
   "metadata": {},
   "outputs": [
    {
     "data": {
      "image/png": "[encoded data removed]",
      "text/plain": [
       "plot without title"
      ]
     },
     "metadata": {},
     "output_type": "display_data"
    }
   ],
   "source": [
    "# Plots\n",
    "plot(K, prob_vector, \n",
    "     type = 'l', \n",
    "     col = 'red')\n",
    "lines(prob_approx_vector, \n",
    "      lty = 2, \n",
    "      col = 'blue')"
   ]
  }
 ],
 "metadata": {
  "kernelspec": {
   "display_name": "R",
   "language": "R",
   "name": "ir"
  },
  "language_info": {
   "codemirror_mode": "r",
   "file_extension": ".r",
   "mimetype": "text/x-r-source",
   "name": "R",
   "pygments_lexer": "r",
   "version": "3.4.2"
  }
 },
 "nbformat": 4,
 "nbformat_minor": 2
}

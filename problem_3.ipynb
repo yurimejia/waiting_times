{
 "cells": [
  {
   "cell_type": "markdown",
   "metadata": {},
   "source": [
    "# Problem 3"
   ]
  },
  {
   "cell_type": "markdown",
   "metadata": {},
   "source": [
    "## Problem description\n",
    "\n",
    "This problem was posted originally [in this Data Science job post](https://www.glassdoor.nl/Vacature/amsterdam-data-scientist-optiver-vacatures-SRCH_IL.0,9_IC3064478_KO10,24_KE25,32.htm). I reproduce it below for the sake of completness.\n",
    "\n",
    "Calvin has to cross several signals when he walks from his home to school. Each of these signals operate independently. They alternate every 80 seconds between green light and red light. At each signal, there is a counter display that tells him how long it will be before the current signal changes. Calvin has a magic wand which lets him turn a signal from red to green instantaneously. However, this wand comes with limited battery life, so he can use it only for a specified number of times.\n",
    "### Cases\n",
    "1. If the total number of signals is 2 and Calvin can use his magic wand only once, then what is the expected waiting time at the signals when Calvin optimally walks from his home to school?\n",
    "2. What if the number of signals is 3 and Calvin can use his magic wand only once?\n",
    "3. Can you write a code that takes as inputs the number of signals and the number of times Calvin can use his magic wand, and outputs the expected waiting time?"
   ]
  },
  {
   "cell_type": "markdown",
   "metadata": {},
   "source": [
    "## Problem solution\n",
    "Notation\n",
    "\n",
    "* $N$ is the total number of signals.\n",
    "* $W$ is the total number of times that the magic wand can be used. \n",
    "* $R_n$ denotes the binary event that the $n$-th signal is red when Calvin arrives, with $n=1,\\dots,N$. \n",
    "* $X_n$ is the remaining time displayed at the counter of the $n$-th signal, with $n=1,\\dots,N$.\n",
    "* $T_n$ is the waiting time at the $n$-th signal, with $n=1,\\dots,N$.\n",
    "* $T = \\sum_{n=1}^N T_n$ is the total waiting time.\n",
    "\n",
    "We assume that as long as the corresponding signal is green, Calvin can cross regardless of how much time is left for the green light."
   ]
  },
  {
   "cell_type": "markdown",
   "metadata": {},
   "source": [
    "### Case 0: $N$ signals and $W=0$ usage of the wand \n",
    "This case is not requested but it is the baseline to evaluate cases 1 and 2 below. There are two situations which can occurred with probability 0.5:\n",
    "1. If $R_1=0$, i.e. the first signal is green when Calvin arrives, then he does not wait i.e. $T_1 = 0$.\n",
    "\n",
    "2. If $R_1=1$, i.e. the first signal is red when Calvin arrives, then he has to wait. This waiting time can be modelled with a uniform distribution unif(0,80), which has an expected value of 40. \n",
    " \n",
    "Therefore:\n",
    "\n",
    "$$ E(T) = E(T_1) + \\dots + E(T_N) = N \\cdot E(T_1)$$\n",
    "Situations 1 and 2, imply that\n",
    "$$ E(T) = N \\cdot [E(T_1|R_1=0)\\cdot P(R_1=0) + E(T_1|R_1=1)\\cdot P(R_1=1)]$$\n",
    "Finally,\n",
    "$$ E(T) = N \\cdot \\left[0\\cdot \\frac12 + 40 \\cdot \\frac12 \\right] = 20\\cdot N \\text{ seconds.}$$\n"
   ]
  },
  {
   "cell_type": "markdown",
   "metadata": {},
   "source": [
    "### Case 1: $N=2$ signals and $W=1$ usage of the wand \n",
    "There are the following 2 situations, both occuring with probability 0.5:\n",
    "\n",
    "1. If $R_1=0$, i.e. the first signal is green when Calvin arrives, then he neither has to wait nor use the wand, and he can spare its usage for the second signal in case that it is red. In this situation both $T_1 = 0$ and $T_2 = 0$.\n",
    "\n",
    "2. If $R_1=1$, i.e. the first signal is red when Calvin arrives, then he should use the magic wand depending on $X_1$, the remaining time displayed at the first counter. We propose Strategy $(M)$, which consits of:\n",
    "\n",
    "    a. If $X_1<=M$, then Calvin should wait until the first signal turns green and use the magic wand at the second signal if this one is red. In this situation, $T_1\\sim$ unif(0,$M$) and $T_2 = 0$.\n",
    "   \n",
    "    b. If $X_1>M$, then Calvin should use the magic wand to turn the first signal into green and continue to the second signal, where he will have to wait in case that it is red since he cannot longer use the wand. In this situation, $T_1 = 0$ and $T_2\\sim$ unif(0,80) or $T_2=0$, both  with probability 0.5.\n",
    "    \n",
    "##### Simulation\n",
    "If the second signal is red, then the waiting time can be modelled by a uniform distribution unif(0,80) with expected value 40. This situation only occurs with probability 0.5, thus the expected waiting time is 20 seconds. Intuitively, Calvin should use the wand at the first signal if the waiting time is larger than 20 and wait if the waiting time is less than 20, in other words $M=20$. \n",
    "\n",
    "##### How many simulations?\n",
    "We need to determine how many simulations are needed to have a good estimation of the expected time. Let $\\mu$ and $\\sigma^2$ denote the mean and variance of $T$. By the Central Limit Theorem, we know that if $T^j$ are i.id. copies of $T$, with $j = 1\\dots,J$, then the average $S = (\\sum_{j=1}^J T^j) / J$ approaches a normal distribution with mean $\\mu$ and standard deviation $\\sigma/\\sqrt{J}$. Thus with probability 0.95, the error between the mean $\\mu$ and the observed sample mean $S$ is bounded by\n",
    "\n",
    "$$|\\mu - S| \\le 1.96\\frac{\\sigma}{\\sqrt{J}}.$$\n",
    "\n",
    "If we allow an error of $|\\mu - S|=0.5$ and $c^2$ is an upper bound of the variance $\\sigma^2$, i.e. $\\sigma^2 < c^2$, then \n",
    "$$0.5 = 1.96\\frac{\\sigma}{\\sqrt{J}} \\le 1.96\\frac{c}{\\sqrt{J}}\\, \\implies \\, J = \\left(1.96\\frac{c}{0.5}\\right)^2 = 3.92^2c^2.$$\n",
    "\n",
    "So we will find an upper bound for $\\sigma^2$, notice that\n",
    "$$\\sigma^2 = \\text{Var}(T) = E(T^2) - E(T)^2 \\le E(T^2) = E\\left(\\left(\\sum_{n=1}^N T_n\\right)^2\\right) = E\\left(\\sum_{n=1}^N T_n^2\\right) + 2 \\sum_{n=1}^N \\sum_{m<n} E\\left(T_n T_m\\right).$$\n",
    "\n",
    "Therefore,\n",
    "$$\\sigma^2 \\le N \\cdot E(T_1^2) + 2 \\cdot {N\\choose 2} E(T_1)^2 = N\\cdot\\left(E(T_1^2 | R_1 = 0) * P(R_1 = 0) + E(T_1^2 | R_1 = 1) * P(R_1=1)\\right) + 2 \\cdot {N\\choose 2} 20^2.$$\n",
    "\n",
    "Substituting values yields,\n",
    "$$\\sigma^2 \\le  N\\cdot \\frac{80^2}{2} + 2 \\cdot {N\\choose 2} 20^2,$$\n",
    "\n",
    "finally, for $N=2$ we get\n",
    "$$\\sigma^2 \\le  2\\cdot \\frac{80^2}{2} + 2 \\cdot {2\\choose 2} 20^2 = 6400 + 800 = 7200.$$\n",
    "\n",
    "Thus the number of simulations should be at least $J = 3.92^2 \\cdot 7200 = 110638.1$.\n",
    "\n",
    "\n",
    "##### Mathematically\n",
    "If $E_M$ denotes the expectation when using treshold $M$ for the strategy, then situation 1 and 2 imply \n",
    "$$E_M(T) = E_M(T \\,|\\, R_1 = 0) \\cdot  P(R_1 = 0) + E_M(T \\,|\\, R_1 = 1) \\cdot  P(R_1 = 1) = 0 \\cdot  \\frac{1}{2} + E_M(T \\,|\\, R_1 = 1) \\cdot  \\frac{1}{2}$$\n",
    "\n",
    "Thus we only have to compute the second term in the last sum. Depending on the counter value we have that\n",
    "$$ E_M(T \\,|\\, R_1 = 1) = E_M(T \\,|\\, R_1 = 1, X_1<=M) \\cdot P(R_1 = 1, X_1<=M) + E_M(T \\,|\\, R_1 = 1, X_1>M) \\cdot P(R_1 = 1, X_1>M)$$\n",
    "\n",
    "Substituting all values yields,\n",
    "$$ E_M(T \\,|\\, R_1 = 1)  = \\frac{M}{2}\\cdot\\frac{M}{80} + \\left(\\frac{80}{2}\\cdot\\frac12 + 0\\cdot\\frac12 \\right)\\cdot\\frac{80-M}{80} = \\frac{M^2}{160} -\\frac{M}{4} + 20.\n",
    "$$\n",
    "                   \n",
    "Replacing this quantity in the original equation, we get\n",
    "$$E_M(T) = \\left(\\frac{M^2}{160} -\\frac{M}{4} + 20\\right) \\cdot \\frac{1}{2},$$\n",
    "\n",
    "a parabola that opens upwards, so its critical point gives the minimum value. Taking the derivative of $E_M(T)$ with respect to $M$ and equating to 0 yields\n",
    "$$\\frac{d}{dM}E_M(T) = \\left(\\frac{2M}{160} -\\frac{1}{4}\\right) \\cdot \\frac{1}{2} = 0 \\implies M = 20.$$\n",
    "\n",
    "The minimum expected waiting time is obtained after evaluating $E_{M}(T)$ at $M=20$,\n",
    "$$E_{20}(T) = \\left(\\frac{20^2}{160} -\\frac{20}{4} + 20\\right) \\cdot \\frac{1}{2} \n",
    "= \\left(\\frac{400}{160} + 15\\right) \\cdot \\frac{1}{2} = (17.5) \\cdot \\frac{1}{2}  = 8.75 \\text{ seconds}.$$\n",
    "\n",
    "##### Note\n",
    "For $N=2$ signals and $W=0$, i.e. there is no magic wand, $E(T) = 40$ seconds as computed in case 0. Now, with $W=1$ and the application of the optimal Strategy (20), the waiting time has been reduced to 8.75 seconds."
   ]
  },
  {
   "cell_type": "markdown",
   "metadata": {},
   "source": [
    "### Case 2: $N=3$ signals and $W=1$ usage of the wand \n",
    "Once more, situations 1 and 2 from case 1 can happen with probability 0.5. In order to expand Strategy($M$), we now consider a vector of tresholds $M = (M_1, M_2, \\dots M_{N-1})$, i.e. there is a threshold for each signal except the last one, since there is either a wand usage in which case it is always used or there is no wand usag and then Calvin has to wait.\n",
    "\n",
    "1. If the first signal is green $R_1 = 0$, then Calvin continues without waiting, to the next two signals and then we get the case 1, with $N=2$ and $W=1$.\n",
    "\n",
    "2. If the first signal is red $R_1 = 1$, then Strategy(M) goes as follows: \n",
    "\n",
    "    a. Calvin waits if $X_1 \\le M_1$, then for the remaining two signals we have the case $N=2$ and $W=1$.\n",
    "\n",
    "    b. Calvin uses the wand if to $X_1 \\le M_1$, and for the next two signals we have the case $N=2$ and $W=0$.\n",
    "\n",
    "From the case 1, we know that when $N=2$ and $W=1$ the optimal treshold is $M=20$. Therefore, we only need to determine the optimal treshold in situation 2.b. For this reason we will run simulations with $M = (M_1, 20)$, for several values of $M_1$.\n"
   ]
  },
  {
   "cell_type": "markdown",
   "metadata": {},
   "source": [
    "## Libraries"
   ]
  },
  {
   "cell_type": "code",
   "execution_count": 6,
   "metadata": {},
   "outputs": [],
   "source": [
    "library(ggplot2)\n",
    "library(dplyr)"
   ]
  },
  {
   "cell_type": "markdown",
   "metadata": {},
   "source": [
    "## Functions for calculations"
   ]
  },
  {
   "cell_type": "code",
   "execution_count": 7,
   "metadata": {
    "collapsed": true
   },
   "outputs": [],
   "source": [
    "# Compute_wait_time: Computes recursively waiting time (seconds) of signals.\n",
    "# INPUT:\n",
    "#   N = (integer) total number of signals.\n",
    "#   W = (integer) total number of times that the magic wand can be used.\n",
    "#   period_length = (float) time period for duration of signal green and red.\n",
    "#   prob_red = (float) probability that signal is red, assume prob_green = 1 - prob_red\n",
    "#   M = (vector floats) tresholds for Strategy(M), range [0, period_length] and length N\n",
    "# OUTPUT:\n",
    "#   (float) sum of waiting times of signals (seconds).\n",
    "Compute_wait_time = function(\n",
    "    N,\n",
    "    W,\n",
    "    period_length,\n",
    "    prob_red,\n",
    "    M){ \n",
    "  \n",
    "    # There are as many wand usages as signals, then Calvin can use the wand and he does not wait at all.\n",
    "    if(W >= N){ \n",
    "        return(0)\n",
    "\n",
    "    # There is no wand usage, then Calvin has to wait for all the remaining signals that are RED.\n",
    "    }else if(W == 0){\n",
    "        red_signals = runif(n = N, min = 0, max = period_length)\n",
    "        wait_times = sample(x = c(1, 0), size = N, replace = TRUE, prob = c(prob_red, 1 - prob_red))\n",
    "        # return sum of waiting times for red lights\n",
    "        return(sum(red_signals * wait_times))\n",
    "\n",
    "    }else{\n",
    "        # Determine whether signal is green (=1) or red(=0),\n",
    "        # with probabilities prob_green = 1 - prob_red and pro_red, respectively.\n",
    "        is_green = sample(x = c(1, 0), size = 1, replace = TRUE, prob = c(1 - prob_red, prob_red))\n",
    "\n",
    "        if (is_green){\n",
    "            # Situation 1: If signal is green, then its waiting time is 0 so Calvin continues to next signals.\n",
    "            return(Compute_wait_time(N - 1, W, period_length, prob_red, M[2:length(M)]))   \n",
    "        }else{            \n",
    "            # Situation 2: Apply Strategy(M)\n",
    "            # Generate time counter at traffic light\n",
    "            X = runif(n = 1, min = 0, max = period_length)\n",
    "            \n",
    "            # Situation 2.a: If waiting time is low, wait for signal to turn green and \n",
    "            # spare wand usage to next signals\n",
    "            if (X <= M[1]) return(X + Compute_wait_time(N - 1, W, period_length, prob_red, M[2:length(M)])) \n",
    "            # Situation 2.b: If waiting time si high, use wand to cross immediately and \n",
    "            # continue to next signal with one less wand usage.\n",
    "            else return(Compute_wait_time(N - 1, W - 1, period_length, prob_red, M[2:length(M)]))               \n",
    "        }  \n",
    "    } \n",
    "}\n",
    "      \n",
    "# Compute_mean_wait_time: Computes MEAN waiting time of signals(seconds).\n",
    "# INPUT:\n",
    "#   num_experiments = (integer) total number of experiments used to compute mean.\n",
    "#   N = (integer) total number of signals.\n",
    "#   W = (integer) total number of times that the magic wand can be used.\n",
    "#   period_length = (float) time period for duration of signal green and red ().\n",
    "#   prob_red = (float) probability that signal is red\n",
    "#   M = (float) treshold for Strategy(M), range [0, period_length]\n",
    "# OUTPUT:\n",
    "#   (float) mean of sum of waiting times of signals (seconds).\n",
    "Compute_mean_wait_time = function(\n",
    "    num_experiments,\n",
    "    N,\n",
    "    W,\n",
    "    period_length,\n",
    "    prob_red,\n",
    "    M){ \n",
    "    \n",
    "    waiting_times = sapply(1:num_experiments, function(i){\n",
    "      Compute_wait_time(\n",
    "          N, \n",
    "          W,\n",
    "          period_length,\n",
    "          prob_red,\n",
    "          M)\n",
    "    })    \n",
    "    return(mean(waiting_times))\n",
    "}\n",
    "\n",
    "# Plot_solution: Plots Simulated and exact solution for a set of tresholds M.\n",
    "# INPUT:\n",
    "#  tresholds = (vector floats) treholds M used in Strategy(M).\n",
    "#  solution_sim = (vector floats) simulated waiting time for corresponding treshold M.\n",
    "#  solution_exact = (vectors floats) exact waiting time for corresponding treshold M.\n",
    "#  title = (string) title of plot.\n",
    "#  plot_exact = (logical) whether to print exact solution and display results.\n",
    "# OUTPUT:\n",
    "#   plot depicting both simulated (blue) and exact (red) waiting times for corresponding tresholds M.     \n",
    "Plot_solution = function(\n",
    "    tresholds,\n",
    "    solution_sim,\n",
    "    solution_exact,\n",
    "    title,\n",
    "    plot_exact = TRUE){\n",
    "    \n",
    "    # Prepare data for display\n",
    "    df = data.frame(tresholds = tresholds, \n",
    "                    simulation = solution_sim, \n",
    "                    exact = solution_exact)\n",
    "    # Find treshold that generate minimum simulated and exact waiting time\n",
    "    df_exact = df %>% \n",
    "        dplyr::slice(which.min(exact))\n",
    "    df_simulated = df %>% \n",
    "        dplyr::slice(which.min(simulation))\n",
    "    \n",
    "    # Plot\n",
    "    p = ggplot(data = df, aes(x = tresholds)) + \n",
    "        geom_line(aes(y = simulation, color = 'Simulation'))\n",
    "    \n",
    "    if(plot_exact){\n",
    "        p = p + geom_line(aes(y = exact, color = 'Exact'))\n",
    "    }\n",
    "    \n",
    "    p = p + \n",
    "        scale_color_manual('Solution type: ',\n",
    "                           breaks = c('Simulation', 'Exact'),\n",
    "                           values = c('Simulation'='blue', 'Exact'='red')) + \n",
    "        ylab('Mean waiting time (s)') +\n",
    "        xlab('Treshold M (s)') + \n",
    "        ggtitle(title) +\n",
    "        theme(legend.position = 'top') +\n",
    "        annotate(\"text\", \n",
    "                 x = 30, \n",
    "                 y = df_simulated$simulation[1] + 20, \n",
    "                 label = paste('Simulation: treshold =', df_simulated$tresholds[1],\n",
    "                               'waiting time =', round(df_simulated$simulation[1],2),\n",
    "                               'seconds.'))        \n",
    "     if(plot_exact){\n",
    "        p = p +   \n",
    "         annotate(\"text\", \n",
    "                 x = 30, \n",
    "                 y = df_simulated$simulation[1] + 19, \n",
    "                 label = paste('Exact: treshold =', df_exact$tresholds[1],\n",
    "                               'waiting time =', round(df_exact$exact[1],2),\n",
    "                               'seconds.'))        \n",
    "     }\n",
    "        \n",
    "    return(p)\n",
    "}\n",
    "\n",
    "##### Exact solutions ----\n",
    "# Exact0: Given total number of signals N, returns (exact) expected waiting time as in case 0.\n",
    "# INPUT:\n",
    "#   N = (integer) total number of signals.\n",
    "# OUTPUT:\n",
    "#   (float) mean of sum of waiting times of N signals (seconds).\n",
    "Exact0 = function(N){\n",
    "    return(20*N)\n",
    "}\n",
    "\n",
    "\n",
    "# Exact1: Given a treshold M, returns (exact) expected waiting time as in case 1.\n",
    "# INPUT:\n",
    "#   M = (float) treshold for Stratgy (M) as described in case 1.\n",
    "# OUTPUT:\n",
    "#   (float) exact expected waiting time (seconds) as described in case 1.\n",
    "Exact1 = function(M){\n",
    "    return((M^2/160 - M/4 + 20)/2)\n",
    "}"
   ]
  },
  {
   "cell_type": "markdown",
   "metadata": {},
   "source": [
    "## Calculations & results\n",
    "\n",
    "##### Case 0"
   ]
  },
  {
   "cell_type": "code",
   "execution_count": 12,
   "metadata": {
    "collapsed": true
   },
   "outputs": [],
   "source": [
    "tresholds_M = seq(from = 0, to = 80, by = 0.5)\n",
    "N = 2 # number of signals\n",
    "W = 0 # number of wand usages\n",
    "J = ceiling((N * 80^2 / 12) * 3.92^2)  # bound is Variance of N independet uniform distributions unif(0,80)\n",
    "\n",
    "waiting_times_case0 = sapply(tresholds_M, function(M){\n",
    "        Compute_mean_wait_time(\n",
    "            num_experiments = J,\n",
    "            N = N,\n",
    "            W = W,\n",
    "            period_length = 80,\n",
    "            prob_red = 0.5,\n",
    "            M = c(M))\n",
    "})"
   ]
  },
  {
   "cell_type": "code",
   "execution_count": 9,
   "metadata": {},
   "outputs": [
    {
     "data": {},
     "metadata": {},
     "output_type": "display_data"
    },
    {
     "data": {
      "image/png": "[encoded data removed]",
      "text/plain": [
       "plot without title"
      ]
     },
     "metadata": {},
     "output_type": "display_data"
    }
   ],
   "source": [
    "Plot_solution(\n",
    "    tresholds = tresholds_M,\n",
    "    solution_sim = waiting_times_case0,\n",
    "    solution_exact = rep(Exact0(2), length(tresholds_M)),\n",
    "    title = paste('Case 0 (N =', N, '& W =', W, '): Minimize mean waiting time, simulations', \n",
    "                  num_simulations,\n",
    "                  '& exact solution'))"
   ]
  },
  {
   "cell_type": "markdown",
   "metadata": {},
   "source": [
    "##### Case 1"
   ]
  },
  {
   "cell_type": "code",
   "execution_count": null,
   "metadata": {
    "collapsed": true
   },
   "outputs": [],
   "source": [
    "# Compute mean waiting time for different tresholds M for a high number of simulations\n",
    "tresholds_M = seq(from = 0, to = 80, by = 0.5)\n",
    "N = 2 # number of signals\n",
    "W = 1 # number of wand usages\n",
    "J = ceiling((N * 80^2 / 2 + 2 * choose(N,2) * 20^2) * 3.92^2)  # number of simulations\n",
    "  \n",
    "waiting_times_case1 = sapply(tresholds_M, function(M){\n",
    "        Compute_mean_wait_time(\n",
    "            num_experiments = J,\n",
    "            N = 2,\n",
    "            W = 1,\n",
    "            period_length = 80,\n",
    "            prob_red = 0.5,\n",
    "            M = c(M))\n",
    "})"
   ]
  },
  {
   "cell_type": "code",
   "execution_count": 13,
   "metadata": {},
   "outputs": [
    {
     "ename": "ERROR",
     "evalue": "Error in data.frame(tresholds = tresholds, simulation = solution_sim, : object 'waiting_times_case1' not found\n",
     "output_type": "error",
     "traceback": [
      "Error in data.frame(tresholds = tresholds, simulation = solution_sim, : object 'waiting_times_case1' not found\nTraceback:\n",
      "1. Plot_solution(tresholds = tresholds_M, solution_sim = waiting_times_case1, \n .     solution_exact = Exact1(tresholds_M), title = paste(\"Case 1 (N =\", \n .         N, \"& W =\", W, \"): Minimize mean waiting time, simulations\", \n .         num_simulations, \"& exact solution\"))",
      "2. data.frame(tresholds = tresholds, simulation = solution_sim, \n .     exact = solution_exact)   # at line 97-99 of file <text>"
     ]
    }
   ],
   "source": [
    "Plot_solution(\n",
    "    tresholds = tresholds_M,\n",
    "    solution_sim = waiting_times_case1,\n",
    "    solution_exact = Exact1(tresholds_M),\n",
    "    title = paste('Case 1 (N =', N, '& W =', W, '): Minimize mean waiting time, simulations', \n",
    "                  num_simulations,\n",
    "                  '& exact solution'))\n"
   ]
  },
  {
   "cell_type": "markdown",
   "metadata": {
    "collapsed": true
   },
   "source": [
    "##### Case 2"
   ]
  },
  {
   "cell_type": "code",
   "execution_count": null,
   "metadata": {
    "collapsed": true
   },
   "outputs": [],
   "source": [
    "# Compute mean waiting time for different tresholds M for a high number of simulations\n",
    "tresholds_M = seq(from = 0, to = 80, by = 0.5)\n",
    "N = 3 # number of signals\n",
    "W = 1 # number of wand usages\n",
    "J = ceiling((N * 80^2 / 2 + 2 * choose(N,2) * 20^2) * 3.92^2)  # number of simulations\n",
    "  \n",
    "waiting_times_case2 = sapply(tresholds_M, function(M){\n",
    "        Compute_mean_wait_time(\n",
    "            num_experiments = J,\n",
    "            N = 3,\n",
    "            W = 1,\n",
    "            period_length = 80,\n",
    "            prob_red = 0.5,\n",
    "            M = c(M, 20))\n",
    "})"
   ]
  },
  {
   "cell_type": "code",
   "execution_count": null,
   "metadata": {},
   "outputs": [],
   "source": [
    "Plot_solution(\n",
    "    tresholds = tresholds_M,\n",
    "    solution_sim = waiting_times_case2,\n",
    "    solution_exact = rep(NA, length(tresholds_M)),\n",
    "    title = paste('Case 2 (N =', N, '& W =', W, '):  Minimize mean waiting time, simulations', \n",
    "                  num_simulations),\n",
    "    plot_exact = FALSE)\n"
   ]
  }
 ],
 "metadata": {
  "kernelspec": {
   "display_name": "R [conda env:r_env]",
   "language": "R",
   "name": "conda-env-r_env-r"
  },
  "language_info": {
   "codemirror_mode": "r",
   "file_extension": ".r",
   "mimetype": "text/x-r-source",
   "name": "R",
   "pygments_lexer": "r",
   "version": "3.4.1"
  }
 },
 "nbformat": 4,
 "nbformat_minor": 2
}
